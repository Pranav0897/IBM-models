{
 "cells": [
  {
   "cell_type": "code",
   "execution_count": 1,
   "metadata": {},
   "outputs": [],
   "source": [
    "from collections import Counter\n",
    "import pickle\n",
    "import subprocess"
   ]
  },
  {
   "cell_type": "code",
   "execution_count": 2,
   "metadata": {},
   "outputs": [],
   "source": [
    "en_corpus=[]\n",
    "es_corpus=[]\n",
    "with open('corpus.en') as f1:\n",
    "    while True:\n",
    "        en = f1.readline()\n",
    "        if en =='' or en is None:\n",
    "            break\n",
    "        en_corpus.append(['NULL']+[w for w in en.strip().split()])\n",
    "        \n",
    "with open('corpus.es') as f2:\n",
    "    while True:\n",
    "        es = f2.readline()\n",
    "        if es=='' or es is None:\n",
    "            break\n",
    "        es_corpus.append([w for w in es.strip().split()])"
   ]
  },
  {
   "cell_type": "code",
   "execution_count": null,
   "metadata": {},
   "outputs": [],
   "source": [
    "# en_vocab=Counter([w for s in en_corpus for w in s])\n",
    "# es_vocab=Counter([w for s in es_corpus for w in s])"
   ]
  },
  {
   "cell_type": "code",
   "execution_count": null,
   "metadata": {},
   "outputs": [],
   "source": [
    "# print(len([w for s in en_corpus for w in s]))\n",
    "# print(len([w for s in es_corpus for w in s]))"
   ]
  },
  {
   "cell_type": "code",
   "execution_count": 3,
   "metadata": {},
   "outputs": [
    {
     "name": "stdout",
     "output_type": "stream",
     "text": [
      "5401\n",
      "5401\n"
     ]
    }
   ],
   "source": [
    "print(len(en_corpus))\n",
    "print(len(es_corpus))"
   ]
  },
  {
   "cell_type": "code",
   "execution_count": 9,
   "metadata": {},
   "outputs": [],
   "source": [
    "with open('t_ibm1.pickle','rb') as fr:\n",
    "    t=pickle.load(fr)\n",
    "# t=Counter()\n",
    "# for k in range(len(en_corpus)):\n",
    "#     for e in en_corpus[k]:\n",
    "#         for f in es_corpus[k]:\n",
    "#             t[(f,e)]=1/en_vocab[e]"
   ]
  },
  {
   "cell_type": "code",
   "execution_count": null,
   "metadata": {},
   "outputs": [],
   "source": [
    "t"
   ]
  },
  {
   "cell_type": "code",
   "execution_count": 5,
   "metadata": {},
   "outputs": [],
   "source": [
    "n_iter=5"
   ]
  },
  {
   "cell_type": "code",
   "execution_count": 10,
   "metadata": {},
   "outputs": [],
   "source": [
    "q=Counter()\n",
    "for k in range(len(en_corpus)):\n",
    "    l_en = len(en_corpus[k])\n",
    "    m_es = len(es_corpus[k])\n",
    "    for i in range(1,m_es+1):\n",
    "        for j in range(l_en+1):\n",
    "            q[(j,i,l_en,m_es)] = 1/(l_en+1)"
   ]
  },
  {
   "cell_type": "code",
   "execution_count": null,
   "metadata": {},
   "outputs": [],
   "source": [
    "print(len(q))"
   ]
  },
  {
   "cell_type": "code",
   "execution_count": 12,
   "metadata": {},
   "outputs": [
    {
     "name": "stdout",
     "output_type": "stream",
     "text": [
      "Iteration #0\n",
      "      Type       Total   Precision      Recall     F1-Score\n",
      "===============================================================\n",
      "     total        5920     0.431        0.445        0.438\n",
      "\n",
      "Iteration #1\n",
      "      Type       Total   Precision      Recall     F1-Score\n",
      "===============================================================\n",
      "     total        5920     0.436        0.451        0.443\n",
      "\n",
      "Iteration #2\n",
      "      Type       Total   Precision      Recall     F1-Score\n",
      "===============================================================\n",
      "     total        5920     0.439        0.454        0.446\n",
      "\n",
      "Iteration #3\n",
      "      Type       Total   Precision      Recall     F1-Score\n",
      "===============================================================\n",
      "     total        5920     0.438        0.453        0.445\n",
      "\n",
      "Iteration #4\n",
      "      Type       Total   Precision      Recall     F1-Score\n",
      "===============================================================\n",
      "     total        5920     0.442        0.456        0.449\n",
      "\n"
     ]
    }
   ],
   "source": [
    "for iterno in range(n_iter):\n",
    "    print(\"Iteration #{}\".format(iterno))\n",
    "    c=Counter()\n",
    "    for k in range(len(en_corpus)):\n",
    "        for i in range(1,len(es_corpus[k])+1):\n",
    "            sum1=0.0\n",
    "            sumq=0.0\n",
    "            sumt=0.0\n",
    "            l_en = len(en_corpus[k])\n",
    "            m_es = len(es_corpus[k])\n",
    "            for j,w in enumerate(en_corpus[k]):\n",
    "                sum1 += q[(j,i,l_en, m_es)] * t[(es_corpus[k][i-1],w)]\n",
    "                sumt += t[(es_corpus[k][i-1],w)]\n",
    "                sumq += q[(j,i,l_en, m_es)]\n",
    "            if sum1 == 0:\n",
    "                print(es_corpus[k],en_corpus[k])\n",
    "                print(sumt,sumq)\n",
    "            for j in range(len(en_corpus[k])):\n",
    "                f = es_corpus[k][i-1]\n",
    "                e = en_corpus[k][j]\n",
    "                \n",
    "                delta_kij= q[(j,i,l_en,m_es)] * t[(f,e)] / sum1\n",
    "                c[(e,f)]+= delta_kij\n",
    "                c[e] += delta_kij\n",
    "                c[(j,i,len(en_corpus[k]),len(es_corpus[k]))] += delta_kij\n",
    "                c[(i,len(en_corpus[k]),len(es_corpus[k]))] += delta_kij\n",
    "#             if sum1!=0:\n",
    "#                 delta_kij= t[(es_corpus[k][i],'NULL')] / sum1\n",
    "#                 c[('NULL',es_corpus[k][i])]+= delta_kij\n",
    "#                 c['NULL'] += delta_kij\n",
    "#                 c[(-1,i,len(en_corpus[k]),len(es_corpus[k]))] += delta_kij\n",
    "#                 c[(i,len(en_corpus[k]),len(es_corpus[k]))] += delta_kij\n",
    "##############################################\n",
    "#            Writing alignments \n",
    "##############################################\n",
    "    for k in range(len(en_corpus)):\n",
    "        for i,f in enumerate(es_corpus[k],1):\n",
    "            for j,e in enumerate(en_corpus[k]):\n",
    "                t[(f,e)]=c[(e,f)]/c[e]\n",
    "                q[(j,i,len(en_corpus[k]),len(es_corpus[k]))] = c[(j,i,len(en_corpus[k]),len(es_corpus[k]))]/c[(i,len(en_corpus[k]),len(es_corpus[k]))]\n",
    "    alignments=[]\n",
    "    for k in range(len(dev_es_corpus)):\n",
    "        a_row=[]\n",
    "        for i,f in enumerate(dev_es_corpus[k],1):\n",
    "            l_en = len(dev_en_corpus[k])\n",
    "            m_es = len(dev_es_corpus[k])\n",
    "            score = max([ (q[(j,i,l_en,m_es)]*t[f,dev_en_corpus[k][j]],j) for j in range(len(dev_en_corpus[k]))])\n",
    "            a_row.append(score[1])\n",
    "        alignments.append(a_row)\n",
    "    \n",
    "    fname = 'ibm2_1_iteration_'+str(iterno)+'.out'\n",
    "    with open(fname,'w') as f1:\n",
    "        for i in range(len(alignments)):\n",
    "            for j in range(len(alignments[i])):\n",
    "                if alignments[i][j]!=0:\n",
    "                    s = str(i+1) + \" \" + str(alignments[i][j]) + \" \" + str(j+1) + \"\\n\"\n",
    "                    f1.write(s)\n",
    "    returned_output = subprocess.check_output(\"python3 eval_alignment.py dev.key \" + fname,shell=True)\n",
    "    print(returned_output.decode('utf-8'))"
   ]
  },
  {
   "cell_type": "code",
   "execution_count": null,
   "metadata": {},
   "outputs": [],
   "source": [
    "t"
   ]
  },
  {
   "cell_type": "code",
   "execution_count": null,
   "metadata": {},
   "outputs": [],
   "source": [
    "with open('t_ibm2.pickle', 'wb') as fp:\n",
    "    pickle.dump(t, fp)\n",
    "with open('q_ibm2.pickle', 'wb') as fp:\n",
    "    pickle.dump(q, fp)"
   ]
  },
  {
   "cell_type": "code",
   "execution_count": null,
   "metadata": {},
   "outputs": [],
   "source": [
    "with open('t_ibm2.pickle','rb') as fr:\n",
    "    t1=pickle.load(fr)"
   ]
  },
  {
   "cell_type": "code",
   "execution_count": null,
   "metadata": {},
   "outputs": [],
   "source": [
    "t1"
   ]
  },
  {
   "cell_type": "code",
   "execution_count": 8,
   "metadata": {},
   "outputs": [],
   "source": [
    "dev_en_corpus=[]\n",
    "dev_es_corpus=[]\n",
    "with open('dev.en') as f1:\n",
    "    while True:\n",
    "        en = f1.readline()\n",
    "        if en =='' or en is None:\n",
    "            break\n",
    "        dev_en_corpus.append(['NULL']+[w for w in en.strip().split()])\n",
    "        \n",
    "with open('dev.es') as f2:\n",
    "    while True:\n",
    "        es = f2.readline()\n",
    "        if es=='' or es is None:\n",
    "            break\n",
    "        dev_es_corpus.append([w for w in es.strip().split()])"
   ]
  },
  {
   "cell_type": "code",
   "execution_count": null,
   "metadata": {},
   "outputs": [],
   "source": [
    "alignments=[]\n",
    "for k in range(len(dev_es_corpus)):\n",
    "    a_row=[]\n",
    "    for i,f in enumerate(dev_es_corpus[k],1):\n",
    "        l_en = len(dev_en_corpus[k])\n",
    "        m_es = len(dev_es_corpus[k])\n",
    "        score = max([ (q[(j,i,l_en,m_es)]*t[f,dev_en_corpus[k][j]],j) for j in range(len(dev_en_corpus[k]))])\n",
    "        a_row.append(score[1])\n",
    "    alignments.append(a_row)"
   ]
  },
  {
   "cell_type": "code",
   "execution_count": null,
   "metadata": {},
   "outputs": [],
   "source": [
    "print(alignments)"
   ]
  },
  {
   "cell_type": "code",
   "execution_count": null,
   "metadata": {},
   "outputs": [],
   "source": [
    "with open('ibm2_1.out','w') as f1:\n",
    "    for i in range(len(alignments)):\n",
    "        for j in range(len(alignments[i])):\n",
    "            if alignments[i][j]!=0:\n",
    "                s = str(i+1) + \" \" + str(alignments[i][j]) + \" \" + str(j+1) + \"\\n\"\n",
    "                f1.write(s)"
   ]
  },
  {
   "cell_type": "code",
   "execution_count": null,
   "metadata": {},
   "outputs": [],
   "source": [
    "!python3 eval_alignment.py dev.key ibm2_1.out "
   ]
  },
  {
   "cell_type": "code",
   "execution_count": 13,
   "metadata": {},
   "outputs": [],
   "source": [
    "ibm_model2_alignments=set()\n",
    "devkey_alignments=set()\n",
    "with open('ibm2_1.out','r') as f1:\n",
    "    while True:\n",
    "        s= f1.readline()\n",
    "        if s=='' or s is None:\n",
    "            break\n",
    "        else:\n",
    "            a = tuple([int(i) for i in s.strip().split()])\n",
    "            ibm_model2_alignments.add(a)\n",
    "\n",
    "with open('dev.key','r') as f1:\n",
    "    while True:\n",
    "        s= f1.readline()\n",
    "        if s=='' or s is None:\n",
    "            break\n",
    "        else:\n",
    "            a = tuple([int(i) for i in s.strip().split()])\n",
    "            devkey_alignments.add(a)"
   ]
  },
  {
   "cell_type": "code",
   "execution_count": 17,
   "metadata": {},
   "outputs": [],
   "source": [
    "sents_all_correct=set()\n",
    "sents_matches=set()\n",
    "# sents_my_model_has_extra =set()\n",
    "# sents_devkey_has_extra =set()\n",
    "\n",
    "for k in range(1,len(dev_en_corpus)):\n",
    "    m = len(dev_en_corpus[k-1])-1\n",
    "    l = len(dev_es_corpus[k-1])\n",
    "    all_correct=False\n",
    "#     my_model_has_extra=True\n",
    "#     devkey_has_extra=True\n",
    "    count=0\n",
    "    count_match=0\n",
    "    devkey_set=set()\n",
    "    ibm2_set=set()\n",
    "    for j in range(1,m+1):\n",
    "        for i in range(1,l+1):\n",
    "            if (k,j,i) in devkey_alignments:\n",
    "                devkey_set.add((k,j,i))\n",
    "#                 all_correct=True\n",
    "                count+=1\n",
    "                if (k,j,i) in ibm_model2_alignments:\n",
    "                    ibm2_set.add((k,j,i))\n",
    "                    count_match+=1\n",
    "#                     all_correct=False\n",
    "#             if not((k,j,i) in devkey_alignments and (k,j,i) in ibm_model2_alignments):\n",
    "#                 all_correct=False\n",
    "#             if (k,j,i) in devkey_alignments and (k,j,i) not in ibm_model2_alignments:\n",
    "#                 my_model_has_extra=False\n",
    "#             if (k,j,i) not in devkey_alignments and (k,j,i) in ibm_model2_alignments:\n",
    "#                 devkey_has_extra=False\n",
    "    if count == count_match:\n",
    "        sents_all_correct.add((k,tuple(dev_en_corpus[k-1]),tuple(dev_es_corpus[k-1]),tuple(sorted(list(devkey_set))),tuple(sorted(list(ibm2_set)))))\n",
    "#     elif my_model_has_extra:\n",
    "#         sents_my_model_has_extra.add(k)\n",
    "#     elif devkey_has_extra:\n",
    "#         sents_devkey_has_extra.add(k)"
   ]
  },
  {
   "cell_type": "code",
   "execution_count": 18,
   "metadata": {},
   "outputs": [
    {
     "name": "stdout",
     "output_type": "stream",
     "text": [
      "All correct: Sentences #{(196, ('NULL', 'it', 'was', 'an', 'animated', ',', 'very', 'convivial', 'game', '.'), ('jugaban', 'de', 'una', 'manera', 'animada', 'y', 'muy', 'cordial', '.'), ((196, 4, 5), (196, 6, 7), (196, 7, 8), (196, 9, 9)), ((196, 4, 5), (196, 6, 7), (196, 7, 8), (196, 9, 9))), (192, ('NULL', 'one', 'issue', 'that', 'separates', 'us', 'is', 'the', 'civil', 'war', 'in', 'chechnya', '.'), ('una', 'cuestión', 'que', 'nos', 'separa', 'es', 'la', 'guerra', 'civil', 'en', 'chechenia', '.'), ((192, 1, 1), (192, 2, 2), (192, 3, 3), (192, 4, 5), (192, 5, 4), (192, 6, 6), (192, 7, 7), (192, 8, 9), (192, 9, 8), (192, 10, 10), (192, 11, 11), (192, 12, 12)), ((192, 1, 1), (192, 2, 2), (192, 3, 3), (192, 4, 5), (192, 5, 4), (192, 6, 6), (192, 7, 7), (192, 8, 9), (192, 9, 8), (192, 10, 10), (192, 11, 11), (192, 12, 12)))}\n"
     ]
    }
   ],
   "source": [
    "print(\"All correct: Sentences #{}\".format(sents_all_correct))\n",
    "# print(\"My model has extra alignments: Sentences #{}\".format(sents_my_model_has_extra))\n",
    "# print(\"Devkey has extra alignments: Sentences #{}\".format(sents_devkey_has_extra))"
   ]
  },
  {
   "cell_type": "code",
   "execution_count": 22,
   "metadata": {},
   "outputs": [
    {
     "name": "stdout",
     "output_type": "stream",
     "text": [
      "['NULL', 'my', 'group', 'can', 'see', 'no', 'reason', 'not', 'to', 'grant', 'discharge', 'for', 'the', '1996', 'budget', '.']\n",
      "['mi', 'grupo', 'no', 've', 'razón', 'alguna', 'para', 'no', 'conceder', 'la', 'aprobación', 'de', 'la', 'gestión', 'correspondiente', 'al', 'presupuesto', 'de', '1996', '.']\n",
      "[(1, 1, 1), (1, 2, 2), (1, 4, 4), (1, 5, 3), (1, 6, 5), (1, 7, 8), (1, 8, 7), (1, 9, 9), (1, 10, 11), (1, 12, 16), (1, 13, 19), (1, 14, 17), (1, 15, 20)]\n",
      "[(1, 1, 1), (1, 2, 2), (1, 5, 8), (1, 6, 5), (1, 7, 3), (1, 9, 6), (1, 9, 9), (1, 9, 10), (1, 9, 15), (1, 9, 16), (1, 10, 11), (1, 10, 14), (1, 11, 7), (1, 11, 12), (1, 12, 13), (1, 13, 4), (1, 13, 18), (1, 13, 19), (1, 14, 17), (1, 15, 20)]\n",
      "['NULL', 'i', 'hope', 'that', 'the', 'new', 'parliament', 'and', 'the', 'new', 'commission', 'will', 'make', 'use', 'of', 'them', '.']\n",
      "['espero', 'que', 'el', 'nuevo', 'parlamento', 'y', 'la', 'nueva', 'comisión', 'puedan', 'hacer', 'uso', 'de', 'ellas', '.']\n",
      "[(2, 2, 1), (2, 3, 2), (2, 4, 3), (2, 5, 4), (2, 6, 5), (2, 7, 6), (2, 8, 7), (2, 9, 8), (2, 10, 9), (2, 11, 10), (2, 12, 11), (2, 13, 12), (2, 14, 13), (2, 15, 14), (2, 16, 15)]\n",
      "[(2, 2, 1), (2, 2, 2), (2, 4, 3), (2, 5, 4), (2, 6, 5), (2, 7, 6), (2, 8, 7), (2, 9, 8), (2, 10, 9), (2, 12, 11), (2, 13, 10), (2, 13, 12), (2, 14, 13), (2, 15, 14), (2, 16, 15)]\n"
     ]
    }
   ],
   "source": [
    "for k in [1,2]:\n",
    "    m = len(dev_en_corpus[k-1])-1\n",
    "    l = len(dev_es_corpus[k-1])\n",
    "    devkey_set=set()\n",
    "    ibm2_set=set()\n",
    "    for j in range(1,m+1):\n",
    "        for i in range(1,l+1):\n",
    "            if (k,j,i) in devkey_alignments:\n",
    "                devkey_set.add((k,j,i))\n",
    "            if (k,j,i) in ibm_model2_alignments:\n",
    "                ibm2_set.add((k,j,i))\n",
    "    print(dev_en_corpus[k-1])\n",
    "    print(dev_es_corpus[k-1])\n",
    "    print(sorted(list(devkey_set)))\n",
    "    print(sorted(list(ibm2_set)))"
   ]
  },
  {
   "cell_type": "code",
   "execution_count": 20,
   "metadata": {},
   "outputs": [
    {
     "name": "stdout",
     "output_type": "stream",
     "text": [
      "['NULL', 'my', 'group', 'can', 'see', 'no', 'reason', 'not', 'to', 'grant', 'discharge', 'for', 'the', '1996', 'budget', '.']\n",
      "['mi', 'grupo', 'no', 've', 'razón', 'alguna', 'para', 'no', 'conceder', 'la', 'aprobación', 'de', 'la', 'gestión', 'correspondiente', 'al', 'presupuesto', 'de', '1996', '.']\n",
      "{(1, 6, 5), (1, 15, 20), (1, 5, 3), (1, 8, 7), (1, 2, 2), (1, 4, 4), (1, 13, 19), (1, 10, 11), (1, 14, 17), (1, 7, 8), (1, 9, 9), (1, 1, 1), (1, 12, 16)}\n",
      "{(1, 15, 20), (1, 9, 15), (1, 11, 12), (1, 12, 13), (1, 14, 17), (1, 9, 16), (1, 7, 3), (1, 13, 4), (1, 11, 7), (1, 13, 19), (1, 6, 5), (1, 13, 18), (1, 5, 8), (1, 2, 2), (1, 10, 11), (1, 9, 6), (1, 9, 9), (1, 1, 1), (1, 10, 14), (1, 9, 10)}\n"
     ]
    }
   ],
   "source": []
  }
 ],
 "metadata": {
  "kernelspec": {
   "display_name": "Python 3",
   "language": "python",
   "name": "python3"
  },
  "language_info": {
   "codemirror_mode": {
    "name": "ipython",
    "version": 3
   },
   "file_extension": ".py",
   "mimetype": "text/x-python",
   "name": "python",
   "nbconvert_exporter": "python",
   "pygments_lexer": "ipython3",
   "version": "3.7.3"
  },
  "varInspector": {
   "cols": {
    "lenName": 16,
    "lenType": 16,
    "lenVar": 40
   },
   "kernels_config": {
    "python": {
     "delete_cmd_postfix": "",
     "delete_cmd_prefix": "del ",
     "library": "var_list.py",
     "varRefreshCmd": "print(var_dic_list())"
    },
    "r": {
     "delete_cmd_postfix": ") ",
     "delete_cmd_prefix": "rm(",
     "library": "var_list.r",
     "varRefreshCmd": "cat(var_dic_list()) "
    }
   },
   "types_to_exclude": [
    "module",
    "function",
    "builtin_function_or_method",
    "instance",
    "_Feature"
   ],
   "window_display": false
  }
 },
 "nbformat": 4,
 "nbformat_minor": 2
}

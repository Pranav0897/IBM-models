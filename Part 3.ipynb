{
 "cells": [
  {
   "cell_type": "code",
   "execution_count": 1,
   "metadata": {},
   "outputs": [],
   "source": [
    "from collections import Counter\n",
    "import pickle\n",
    "import numpy as np\n",
    "import subprocess"
   ]
  },
  {
   "cell_type": "code",
   "execution_count": 2,
   "metadata": {},
   "outputs": [],
   "source": [
    "with open('intersection.pickle','rb') as f1:\n",
    "    intersection=pickle.load(f1)\n",
    "with open('union.pickle','rb') as f2:\n",
    "    union=pickle.load(f2)\n",
    "with open('difference.pickle','rb') as f3:\n",
    "    difference=pickle.load(f3)"
   ]
  },
  {
   "cell_type": "code",
   "execution_count": 3,
   "metadata": {},
   "outputs": [],
   "source": [
    "en_corpus=[]\n",
    "es_corpus=[]\n",
    "with open('dev.en') as f1:\n",
    "    while True:\n",
    "        en = f1.readline()\n",
    "        if en =='' or en is None:\n",
    "            break\n",
    "        en_corpus.append(len(['NULL']+[w for w in en.strip().split()]))\n",
    "        \n",
    "with open('dev.es') as f2:\n",
    "    while True:\n",
    "        es = f2.readline()\n",
    "        if es=='' or es is None:\n",
    "            break\n",
    "        es_corpus.append(len([w for w in es.strip().split()]))"
   ]
  },
  {
   "cell_type": "code",
   "execution_count": 4,
   "metadata": {},
   "outputs": [],
   "source": [
    "def alignment_to_file(alignment,fname):\n",
    "    \n",
    "    output = [list(i) for i in sorted(list(alignment))]\n",
    "    with open(fname,'w') as f1:\n",
    "        for a in output:\n",
    "            f1.write(' '.join([str(j) for j in a])+'\\n')"
   ]
  },
  {
   "cell_type": "code",
   "execution_count": 17,
   "metadata": {},
   "outputs": [],
   "source": [
    "alignment_to_file(union,'dev.keys.union')\n",
    "alignment_to_file(intersection,'dev.keys.intersection')\n",
    "alignment_to_file(difference,'dev.keys.difference')"
   ]
  },
  {
   "cell_type": "code",
   "execution_count": 20,
   "metadata": {},
   "outputs": [
    {
     "name": "stdout",
     "output_type": "stream",
     "text": [
      "      Type       Total   Precision      Recall     F1-Score\r\n",
      "===============================================================\r\n",
      "     total        5920     0.363        0.565        0.442\r\n"
     ]
    }
   ],
   "source": [
    "!python3 eval_alignment.py dev.key dev.keys.union"
   ]
  },
  {
   "cell_type": "code",
   "execution_count": 22,
   "metadata": {},
   "outputs": [
    {
     "name": "stdout",
     "output_type": "stream",
     "text": [
      "      Type       Total   Precision      Recall     F1-Score\r\n",
      "===============================================================\r\n",
      "     total        5920     0.775        0.352        0.485\r\n"
     ]
    }
   ],
   "source": [
    "!python3 eval_alignment.py dev.key dev.keys.intersection"
   ]
  },
  {
   "cell_type": "code",
   "execution_count": 23,
   "metadata": {},
   "outputs": [
    {
     "name": "stdout",
     "output_type": "stream",
     "text": [
      "      Type       Total   Precision      Recall     F1-Score\r\n",
      "===============================================================\r\n",
      "     total        5920     0.193        0.213        0.203\r\n"
     ]
    }
   ],
   "source": [
    "!python3 eval_alignment.py dev.key dev.keys.difference"
   ]
  },
  {
   "cell_type": "code",
   "execution_count": 5,
   "metadata": {},
   "outputs": [
    {
     "name": "stdout",
     "output_type": "stream",
     "text": [
      "Iteration 1\n",
      "\n",
      "Elements added: 1289\n",
      "\n",
      "      Type       Total   Precision      Recall     F1-Score\n",
      "===============================================================\n",
      "     total        5920     0.673        0.453        0.541\n",
      "\n",
      "Iteration 2\n",
      "\n",
      "Elements added: 168\n",
      "\n",
      "      Type       Total   Precision      Recall     F1-Score\n",
      "===============================================================\n",
      "     total        5920     0.662        0.464        0.545\n",
      "\n",
      "Iteration 3\n",
      "\n",
      "Elements added: 44\n",
      "\n",
      "      Type       Total   Precision      Recall     F1-Score\n",
      "===============================================================\n",
      "     total        5920     0.659        0.466        0.546\n",
      "\n",
      "Iteration 4\n",
      "\n",
      "Elements added: 10\n",
      "\n",
      "      Type       Total   Precision      Recall     F1-Score\n",
      "===============================================================\n",
      "     total        5920     0.658        0.467        0.547\n",
      "\n",
      "Iteration 5\n",
      "\n",
      "Elements added: 4\n",
      "\n",
      "      Type       Total   Precision      Recall     F1-Score\n",
      "===============================================================\n",
      "     total        5920     0.658        0.468        0.547\n",
      "\n",
      "Iteration 6\n",
      "\n",
      "Elements added: 2\n",
      "\n",
      "      Type       Total   Precision      Recall     F1-Score\n",
      "===============================================================\n",
      "     total        5920     0.658        0.468        0.547\n",
      "\n",
      "Iteration 7\n",
      "\n",
      "Elements added: 1\n",
      "\n",
      "      Type       Total   Precision      Recall     F1-Score\n",
      "===============================================================\n",
      "     total        5920     0.658        0.468        0.547\n",
      "\n",
      "Iteration 8\n",
      "\n",
      "Elements added: 1\n",
      "\n",
      "      Type       Total   Precision      Recall     F1-Score\n",
      "===============================================================\n",
      "     total        5920     0.658        0.468        0.547\n",
      "\n",
      "Iteration 9\n",
      "\n",
      "No new alignments found. Exiting\n"
     ]
    }
   ],
   "source": [
    "with open('intersection.pickle','rb') as f1:\n",
    "    intersection=pickle.load(f1)\n",
    "with open('union.pickle','rb') as f2:\n",
    "    union=pickle.load(f2)\n",
    "with open('difference.pickle','rb') as f3:\n",
    "    difference=pickle.load(f3)\n",
    "new_alignment=intersection.copy()\n",
    "c=0\n",
    "for iterations in range(10):\n",
    "    counter=0\n",
    "    for k in range(1,len(en_corpus)+1):\n",
    "        m = en_corpus[k-1]-1\n",
    "        l = es_corpus[k-1]\n",
    "        mat = np.zeros( (m+2,l+2) )\n",
    "        new_set=set()\n",
    "        new_set2=set()\n",
    "        for j in range(1,m+1):\n",
    "            for i in range(1,l+1):\n",
    "                if (k,j,i) in new_alignment:\n",
    "                    new_set.add((k,j,i))\n",
    "                    mat[j,i] = 1\n",
    "                elif (k,j,i) in difference:\n",
    "                    new_set2.add((k,j,i))\n",
    "                    mat[j,i] = -1\n",
    "#         print(\"Elements added as 1: \",new_set)\n",
    "#         print(\"Elements added as -1: \",new_set2)\n",
    "#         if k>10:\n",
    "#             break\n",
    "        for j in range(1,m+1):\n",
    "            for i in range(1,l+1):\n",
    "                if mat[j,i] == -1:\n",
    "                    if np.any(mat[j-1:j+2,i-1:i+2]==1):\n",
    "                        mat[j,i]=1\n",
    "                        counter+=1\n",
    "                        new_alignment.add((k,j,i))\n",
    "                        difference.remove((k,j,i))\n",
    "    print(\"Iteration {}\\n\".format(iterations+1))\n",
    "    if counter !=0:\n",
    "        print(\"Elements added: {}\\n\".format(counter))\n",
    "        fname = 'dev.keys.iteration_'+str(iterations)\n",
    "        alignment_to_file(new_alignment,fname)\n",
    "        returned_output = subprocess.check_output(\"python3 eval_alignment.py dev.key \" + fname,shell=True)\n",
    "        print(returned_output.decode('utf-8'))\n",
    "\n",
    "        with open('./output_pickle_files/new_alignment_step_'+str(iterations)+'.pickle','wb') as f1:\n",
    "            pickle.dump(new_alignment,f1)\n",
    "    else:\n",
    "        print(\"No new alignments found. Exiting\")\n",
    "        break"
   ]
  },
  {
   "cell_type": "code",
   "execution_count": 21,
   "metadata": {},
   "outputs": [
    {
     "name": "stdout",
     "output_type": "stream",
     "text": [
      "Iteration 1\n",
      "\n",
      "Elements added: 821\n",
      "\n",
      "      Type       Total   Precision      Recall     F1-Score\n",
      "===============================================================\n",
      "     total        5920     0.700        0.415        0.521\n",
      "\n",
      "Iteration 2\n",
      "\n",
      "Elements added: 115\n",
      "\n",
      "      Type       Total   Precision      Recall     F1-Score\n",
      "===============================================================\n",
      "     total        5920     0.690        0.423        0.524\n",
      "\n",
      "Iteration 3\n",
      "\n",
      "Elements added: 33\n",
      "\n",
      "      Type       Total   Precision      Recall     F1-Score\n",
      "===============================================================\n",
      "     total        5920     0.687        0.425        0.525\n",
      "\n",
      "Iteration 4\n",
      "\n",
      "Elements added: 7\n",
      "\n",
      "      Type       Total   Precision      Recall     F1-Score\n",
      "===============================================================\n",
      "     total        5920     0.687        0.425        0.525\n",
      "\n",
      "Iteration 5\n",
      "\n",
      "Elements added: 3\n",
      "\n",
      "      Type       Total   Precision      Recall     F1-Score\n",
      "===============================================================\n",
      "     total        5920     0.687        0.426        0.526\n",
      "\n",
      "Iteration 6\n",
      "\n",
      "Elements added: 1\n",
      "\n",
      "      Type       Total   Precision      Recall     F1-Score\n",
      "===============================================================\n",
      "     total        5920     0.687        0.426        0.526\n",
      "\n",
      "Iteration 7\n",
      "\n",
      "Elements added: 1\n",
      "\n",
      "      Type       Total   Precision      Recall     F1-Score\n",
      "===============================================================\n",
      "     total        5920     0.687        0.426        0.526\n",
      "\n",
      "Iteration 8\n",
      "\n",
      "Elements added: 1\n",
      "\n",
      "      Type       Total   Precision      Recall     F1-Score\n",
      "===============================================================\n",
      "     total        5920     0.687        0.426        0.526\n",
      "\n",
      "Iteration 9\n",
      "\n",
      "No new alignments found. Exiting\n"
     ]
    }
   ],
   "source": [
    "with open('intersection.pickle','rb') as f1:\n",
    "    intersection=pickle.load(f1)\n",
    "with open('union.pickle','rb') as f2:\n",
    "    union=pickle.load(f2)\n",
    "with open('difference.pickle','rb') as f3:\n",
    "    difference=pickle.load(f3)\n",
    "new_alignment=intersection.copy()\n",
    "c=0\n",
    "for iterations in range(10):\n",
    "    counter=0\n",
    "    for k in range(1,len(en_corpus)+1):\n",
    "        m = en_corpus[k-1]-1\n",
    "        l = es_corpus[k-1]\n",
    "        mat = np.zeros( (m+2,l+2) )\n",
    "        new_set=set()\n",
    "        new_set2=set()\n",
    "        for j in range(1,m+1):\n",
    "            for i in range(1,l+1):\n",
    "                if (k,j,i) in new_alignment:\n",
    "                    new_set.add((k,j,i))\n",
    "                    mat[j,i] = 1\n",
    "                elif (k,j,i) in difference:\n",
    "                    new_set2.add((k,j,i))\n",
    "                    mat[j,i] = -1\n",
    "#         print(\"Elements added as 1: \",new_set)\n",
    "#         print(\"Elements added as -1: \",new_set2)\n",
    "#         if k>10:\n",
    "#             break\n",
    "        for j in range(1,m+1):\n",
    "            for i in range(1,l+1):\n",
    "                if mat[j,i] == -1:\n",
    "                    if np.any(mat[j-1:j+2,i-1:i+2]==1):\n",
    "                        mat[j,i]=1\n",
    "                        counter+=1\n",
    "                        new_alignment.add((k,j,i))\n",
    "                        difference.remove((k,j,i))\n",
    "    print(\"Iteration {}\\n\".format(iterations+1))\n",
    "    if counter !=0:\n",
    "        print(\"Elements added: {}\\n\".format(counter))\n",
    "        fname = 'dev.keys.iteration_'+str(iterations)\n",
    "        alignment_to_file(new_alignment,fname)\n",
    "        returned_output = subprocess.check_output(\"python3 eval_alignment.py dev.key \" + fname,shell=True)\n",
    "        print(returned_output.decode('utf-8'))\n",
    "\n",
    "        with open('./output_pickle_files/new_alignment_step_'+str(iterations)+'.pickle','wb') as f1:\n",
    "            pickle.dump(new_alignment,f1)\n",
    "    else:\n",
    "        print(\"No new alignments found. Exiting\")\n",
    "        break"
   ]
  },
  {
   "cell_type": "code",
   "execution_count": 102,
   "metadata": {},
   "outputs": [],
   "source": [
    "# counter=0\n",
    "# for iterations in range(10):\n",
    "#     for k in range(len(en_corpus)):\n",
    "#         for j in range(1,en_corpus[k]):\n",
    "#             for i in range(1,es_corpus[k]+1) :\n",
    "#                 if (k,j,i) not in new_alignment and ((k,j,i-1) in union or (k,j,i+1) in union) and (k,j,i) in union:\n",
    "#                     new_alignment.add((k,j,i))\n",
    "#                     if counter % steps == 0:\n",
    "#                         with open('./output_pickle_files/new_alignment2_step_'+str(counter/steps)+'.pickle','wb') as f1:\n",
    "#                             pickle.dump(new_alignment,f1)\n",
    "#                     counter+=len(new_set)"
   ]
  },
  {
   "cell_type": "code",
   "execution_count": 108,
   "metadata": {},
   "outputs": [],
   "source": [
    "# counter=0\n",
    "# steps=10\n",
    "# for iterations in range(10):\n",
    "#     for k in range(len(en_corpus)):\n",
    "#         for j in range(1,en_corpus[k]):\n",
    "#             for i in range(1,es_corpus[k]+1) :\n",
    "#                 if (k,j,i) not in new_alignment and (k,j,i) in union:\n",
    "#                     new_alignment.add((k,j,i))\n",
    "#                     if counter % steps == 0:\n",
    "#                         with open('./output_pickle_files/new_alignment3_step_'+str(counter/steps)+'.pickle','wb') as f1:\n",
    "#                             pickle.dump(new_alignment,f1)\n",
    "#                     counter+=len(new_set)"
   ]
  },
  {
   "cell_type": "code",
   "execution_count": 62,
   "metadata": {},
   "outputs": [],
   "source": [
    "# counter=0\n",
    "# for k in range(len(en_corpus)):\n",
    "#     for i in range(1,es_corpus[k]+1):\n",
    "#         for j in range(1,en_corpus[k]):\n",
    "#             if (k,j,i) not in new_alignment and (k,j,i) in union:\n",
    "#                     new_alignment.add((k,j,i))\n",
    "#                     if counter % steps == 0:\n",
    "#                         with open('./output_pickle_files/new_alignment_step_'+str(counter/steps)+'.pickle','wb') as f1:\n",
    "#                             pickle.dump(new_alignment,f1)\n",
    "#                     counter+=1"
   ]
  },
  {
   "cell_type": "code",
   "execution_count": 32,
   "metadata": {},
   "outputs": [],
   "source": [
    "# print(len(new_alignment),len(union),len(difference),len(intersection))"
   ]
  },
  {
   "cell_type": "code",
   "execution_count": 33,
   "metadata": {},
   "outputs": [],
   "source": [
    "# print(counter)\n",
    "# print(steps)"
   ]
  },
  {
   "cell_type": "code",
   "execution_count": 98,
   "metadata": {},
   "outputs": [],
   "source": [
    "# def pickle_to_key_file(pickle_file):\n",
    "#     with open('./output_pickle_files/'+pickle_file+'.pickle','rb') as f1:\n",
    "#         keys_set=pickle.load(f1)\n",
    "#         outputs=sorted(list(keys_set))\n",
    "#         with open('./output_key_files/'+pickle_file+'.key','w') as f2:\n",
    "#             for k in outputs:\n",
    "#                 s=str(k[0])+' '+str(k[1])+ ' ' + str(k[2])+'\\n'\n",
    "#                 f2.write(s)"
   ]
  },
  {
   "cell_type": "code",
   "execution_count": 111,
   "metadata": {},
   "outputs": [],
   "source": [
    "# for i in range(1):\n",
    "#     pickle_to_key_file('new_alignment3_step_'+str(float(i)))"
   ]
  },
  {
   "cell_type": "code",
   "execution_count": 22,
   "metadata": {},
   "outputs": [],
   "source": [
    "\n",
    "# for i in range(1):\n",
    "#     print(i)\n",
    "#     returned_output = subprocess.check_output(\"python3 eval_alignment.py dev.key ./output_key_files/new_alignment3_step_\"+str(i)+\".0.key\",shell=True)\n",
    "#     print(returned_output.decode('utf-8'))"
   ]
  },
  {
   "cell_type": "code",
   "execution_count": 23,
   "metadata": {},
   "outputs": [],
   "source": [
    "# import subprocess\n",
    "# for i in range(1):\n",
    "#     print(i)\n",
    "#     returned_output = subprocess.check_output(\"python3 eval_alignment.py dev.key ./output_key_files/new_alignment2_step_\"+str(i)+\".0.key\",shell=True)\n",
    "#     print(returned_output.decode('utf-8'))"
   ]
  },
  {
   "cell_type": "code",
   "execution_count": 24,
   "metadata": {},
   "outputs": [],
   "source": [
    "# import subprocess\n",
    "# for i in range(3):\n",
    "#     print(i)\n",
    "#     returned_output = subprocess.check_output(\"python3 eval_alignment.py dev.key ./output_key_files/new_alignment1_step_\"+str(i)+\".0.key\",shell=True)\n",
    "#     print(returned_output.decode('utf-8'))"
   ]
  },
  {
   "cell_type": "code",
   "execution_count": 25,
   "metadata": {},
   "outputs": [],
   "source": [
    "# !python3 eval_alignment.py dev.key new_alignment_step_0.0.key"
   ]
  },
  {
   "cell_type": "code",
   "execution_count": 26,
   "metadata": {},
   "outputs": [],
   "source": [
    "# !python3 eval_alignment.py dev.key new_alignment_step_1.0.key"
   ]
  },
  {
   "cell_type": "code",
   "execution_count": 27,
   "metadata": {},
   "outputs": [],
   "source": [
    "# !python3 eval_alignment.py dev.key new_alignment_step_2.0.key"
   ]
  },
  {
   "cell_type": "code",
   "execution_count": 28,
   "metadata": {},
   "outputs": [],
   "source": [
    "# !python3 eval_alignment.py dev.key new_alignment_step_3.0.key"
   ]
  },
  {
   "cell_type": "code",
   "execution_count": 29,
   "metadata": {},
   "outputs": [],
   "source": [
    "# !python3 eval_alignment.py dev.key new_alignment_step_4.0.key"
   ]
  },
  {
   "cell_type": "code",
   "execution_count": 30,
   "metadata": {},
   "outputs": [],
   "source": [
    "# !python3 eval_alignment.py dev.key new_alignment_step_5.0.key"
   ]
  }
 ],
 "metadata": {
  "kernelspec": {
   "display_name": "Python 3",
   "language": "python",
   "name": "python3"
  },
  "language_info": {
   "codemirror_mode": {
    "name": "ipython",
    "version": 3
   },
   "file_extension": ".py",
   "mimetype": "text/x-python",
   "name": "python",
   "nbconvert_exporter": "python",
   "pygments_lexer": "ipython3",
   "version": "3.7.3"
  },
  "varInspector": {
   "cols": {
    "lenName": 16,
    "lenType": 16,
    "lenVar": 40
   },
   "kernels_config": {
    "python": {
     "delete_cmd_postfix": "",
     "delete_cmd_prefix": "del ",
     "library": "var_list.py",
     "varRefreshCmd": "print(var_dic_list())"
    },
    "r": {
     "delete_cmd_postfix": ") ",
     "delete_cmd_prefix": "rm(",
     "library": "var_list.r",
     "varRefreshCmd": "cat(var_dic_list()) "
    }
   },
   "types_to_exclude": [
    "module",
    "function",
    "builtin_function_or_method",
    "instance",
    "_Feature"
   ],
   "window_display": false
  }
 },
 "nbformat": 4,
 "nbformat_minor": 2
}
